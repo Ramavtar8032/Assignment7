{
 "cells": [
  {
   "cell_type": "code",
   "execution_count": 59,
   "id": "8d738a5d-cb3a-4857-b933-57d79d9027cd",
   "metadata": {},
   "outputs": [
    {
     "name": "stdout",
     "output_type": "stream",
     "text": [
      "printing flatList :- \n",
      "[1, 2, 3, 4, 44, 55, 66, 34, 56, 78, 89, 34, 1, 55, 67, 78, 89, 4, 56]\n",
      "printing product of flatlist 9871226872949543554252800\n"
     ]
    }
   ],
   "source": [
    "# Q1 Ans:-\n",
    "import typing \n",
    "def extractNumericNum(list) :\n",
    "    flatList=[]\n",
    "    \n",
    "    for i in list :\n",
    "        \n",
    "        if type(i) == int :\n",
    "            flatList.append(i)\n",
    "        \n",
    "        elif isinstance(i , typing.List) :\n",
    "            for j in i :\n",
    "                if type(j) == int :\n",
    "                    flatList.append(j)\n",
    "        elif type(i) is  tuple : \n",
    "            for j in i :\n",
    "                if type(j) == int :\n",
    "                    flatList.append(j)\n",
    "        elif type(i) is dict :\n",
    "            for key,value in i.items() :\n",
    "                if type(key) == int :\n",
    "                    flatList.append(key)\n",
    "                elif type(value) == int :\n",
    "                    flatList.append(value)\n",
    "                elif isinstance(value , typing.List) :\n",
    "                    for j in value :\n",
    "                        if type(j) == int :\n",
    "                            flatList.append(j)\n",
    "                elif type(value) is  tuple : \n",
    "                    for j in value :\n",
    "                        if type(j) == int :\n",
    "                            flatList.append(j)\n",
    "                    \n",
    "    return flatList\n",
    "        \n",
    "        \n",
    "list1 = [1,2,3,4, [44,55,66, True], False, (34,56,78,89,34), {1,2,3,3,2,1}, {1:34, \"key2\": [55, 67, 78, 89], 4: (45,\n",
    "22, 61, 34)}, [56, 'data science'], 'Machine Learning']\n",
    "flatList=extractNumericNum(list1)\n",
    "print(\"printing flatList :- \")\n",
    "print(flatList)\n",
    "prod=1\n",
    "for i in flatList :\n",
    "    prod=prod*i\n",
    "\n",
    "print(\"printing product of flatlist\",prod)\n"
   ]
  },
  {
   "cell_type": "code",
   "execution_count": 73,
   "id": "771b1453-65a6-4bf4-a631-84288bf1f4d3",
   "metadata": {},
   "outputs": [
    {
     "data": {
      "text/plain": [
       "'i$wznt$to$yexome$z$dztz$sxientist'"
      ]
     },
     "execution_count": 73,
     "metadata": {},
     "output_type": "execute_result"
    }
   ],
   "source": [
    "# Q2 Ans:- \n",
    "sentence =\"I want to become a Data Scientist\".lower()\n",
    "sentence=sentence.replace('a','z')\n",
    "sentence=sentence.replace(\"b\",\"y\")\n",
    "sentence=sentence.replace(\"c\",\"x\")\n",
    "sentence=sentence.replace(\" \",\"$\")\n",
    "sentence"
   ]
  },
  {
   "cell_type": "code",
   "execution_count": null,
   "id": "dd3abcdd-f92d-45cc-b015-4b39c7f8eaa3",
   "metadata": {},
   "outputs": [],
   "source": []
  },
  {
   "cell_type": "code",
   "execution_count": null,
   "id": "fbcc6069-7f36-421a-be03-b4b994c7957d",
   "metadata": {},
   "outputs": [],
   "source": []
  }
 ],
 "metadata": {
  "kernelspec": {
   "display_name": "Python 3 (ipykernel)",
   "language": "python",
   "name": "python3"
  },
  "language_info": {
   "codemirror_mode": {
    "name": "ipython",
    "version": 3
   },
   "file_extension": ".py",
   "mimetype": "text/x-python",
   "name": "python",
   "nbconvert_exporter": "python",
   "pygments_lexer": "ipython3",
   "version": "3.10.8"
  }
 },
 "nbformat": 4,
 "nbformat_minor": 5
}
